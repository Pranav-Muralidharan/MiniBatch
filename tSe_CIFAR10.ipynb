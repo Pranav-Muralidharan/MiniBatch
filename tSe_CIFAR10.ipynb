{
  "nbformat": 4,
  "nbformat_minor": 0,
  "metadata": {
    "colab": {
      "name": "tSe/CIFAR10",
      "provenance": [],
      "collapsed_sections": [],
      "authorship_tag": "ABX9TyN1Sgns4kjwBV2Vn2nRcSI4"
    },
    "kernelspec": {
      "name": "python3",
      "display_name": "Python 3"
    },
    "language_info": {
      "name": "python"
    }
  },
  "cells": [
    {
      "cell_type": "code",
      "metadata": {
        "id": "jb1MXhgZwrL_"
      },
      "source": [
        "import numpy as np\n",
        "import tensorflow as tf\n",
        "import tensorflow.keras.layers as tfl\n",
        "from tensorflow.keras import models, datasets\n",
        "import matplotlib.pyplot as plt"
      ],
      "execution_count": 1,
      "outputs": []
    },
    {
      "cell_type": "code",
      "metadata": {
        "colab": {
          "base_uri": "https://localhost:8080/"
        },
        "id": "RFBNJw271OvJ",
        "outputId": "4bc1d8b6-8ca7-4f9c-80be-7e4ecf858469"
      },
      "source": [
        "data= datasets.cifar10\n",
        "(X_train,y_train),(X_test,y_test)= data.load_data()"
      ],
      "execution_count": 2,
      "outputs": [
        {
          "output_type": "stream",
          "text": [
            "Downloading data from https://www.cs.toronto.edu/~kriz/cifar-10-python.tar.gz\n",
            "170500096/170498071 [==============================] - 2s 0us/step\n"
          ],
          "name": "stdout"
        }
      ]
    },
    {
      "cell_type": "code",
      "metadata": {
        "id": "ABRl7ohXXzw8"
      },
      "source": [
        "def talk_data(X,y,index): \n",
        "  print(X.shape , y.shape)\n",
        "  plt.figure(figsize=(18,3))\n",
        "  plt.imshow(X_train[index])\n",
        "  #print(X[:4] , y[:4])"
      ],
      "execution_count": 15,
      "outputs": []
    },
    {
      "cell_type": "code",
      "metadata": {
        "id": "TxitorcJa6LG"
      },
      "source": [
        "y_train = y_train.reshape(-1,)\n",
        "#y_train[:4]\n",
        "X_train=X_train/255\n",
        "X_test=X_test/255"
      ],
      "execution_count": 4,
      "outputs": []
    },
    {
      "cell_type": "code",
      "metadata": {
        "id": "koSNcEjaMnm6"
      },
      "source": [
        "model = tf.keras.Sequential()\n",
        "model.add(tfl.Conv2D(filters=45,kernel_size=(3,3),activation='relu',input_shape=(32,32,3)))\n",
        "model.add(tfl.MaxPool2D(2,2))\n",
        "model.add(tfl.Conv2D(filters=60,kernel_size=(3,3),activation='relu'))\n",
        "model.add(tfl.MaxPool2D(2,2))\n",
        "model.add(tfl.Flatten())\n",
        "model.add(tfl.Dense(70,activation='relu'))\n",
        "model.add(tfl.Dense(10,activation='softmax'))"
      ],
      "execution_count": 5,
      "outputs": []
    },
    {
      "cell_type": "code",
      "metadata": {
        "id": "bCXZ1s93hIid"
      },
      "source": [
        "model.compile(optimizer='adam',\n",
        "              loss='sparse_categorical_crossentropy',\n",
        "              metrics=['accuracy'])"
      ],
      "execution_count": 6,
      "outputs": []
    },
    {
      "cell_type": "code",
      "metadata": {
        "colab": {
          "base_uri": "https://localhost:8080/"
        },
        "id": "FNqYvk_xiIS7",
        "outputId": "f78cf436-9a3a-49d6-cc79-3403daa537b9"
      },
      "source": [
        "model.fit(X_train,y_train,epochs=12)"
      ],
      "execution_count": 9,
      "outputs": [
        {
          "output_type": "stream",
          "text": [
            "Epoch 1/12\n",
            "1563/1563 [==============================] - 89s 57ms/step - loss: 0.4952 - accuracy: 0.8264\n",
            "Epoch 2/12\n",
            "1563/1563 [==============================] - 89s 57ms/step - loss: 0.4653 - accuracy: 0.8370\n",
            "Epoch 3/12\n",
            "1563/1563 [==============================] - 89s 57ms/step - loss: 0.4361 - accuracy: 0.8458\n",
            "Epoch 4/12\n",
            "1563/1563 [==============================] - 88s 56ms/step - loss: 0.4075 - accuracy: 0.8539\n",
            "Epoch 5/12\n",
            "1563/1563 [==============================] - 88s 57ms/step - loss: 0.3832 - accuracy: 0.8648\n",
            "Epoch 6/12\n",
            "1563/1563 [==============================] - 88s 56ms/step - loss: 0.3593 - accuracy: 0.8732\n",
            "Epoch 7/12\n",
            "1563/1563 [==============================] - 89s 57ms/step - loss: 0.3369 - accuracy: 0.8804\n",
            "Epoch 8/12\n",
            "1563/1563 [==============================] - 88s 56ms/step - loss: 0.3150 - accuracy: 0.8884\n",
            "Epoch 9/12\n",
            "1563/1563 [==============================] - 88s 56ms/step - loss: 0.2964 - accuracy: 0.8953\n",
            "Epoch 10/12\n",
            "1563/1563 [==============================] - 87s 56ms/step - loss: 0.2780 - accuracy: 0.9004\n",
            "Epoch 11/12\n",
            "1563/1563 [==============================] - 88s 56ms/step - loss: 0.2601 - accuracy: 0.9071\n",
            "Epoch 12/12\n",
            "1563/1563 [==============================] - 88s 56ms/step - loss: 0.2454 - accuracy: 0.9113\n"
          ],
          "name": "stdout"
        },
        {
          "output_type": "execute_result",
          "data": {
            "text/plain": [
              "<tensorflow.python.keras.callbacks.History at 0x7f9c584b2a50>"
            ]
          },
          "metadata": {
            "tags": []
          },
          "execution_count": 9
        }
      ]
    },
    {
      "cell_type": "code",
      "metadata": {
        "colab": {
          "base_uri": "https://localhost:8080/"
        },
        "id": "7bPaBEZuCrlE",
        "outputId": "4cbcf7f6-d6be-42dd-c0ef-c9a22005f81d"
      },
      "source": [
        "model.evaluate(X_test,y_test)"
      ],
      "execution_count": 10,
      "outputs": [
        {
          "output_type": "stream",
          "text": [
            "313/313 [==============================] - 5s 16ms/step - loss: 1.5867 - accuracy: 0.6832\n"
          ],
          "name": "stdout"
        },
        {
          "output_type": "execute_result",
          "data": {
            "text/plain": [
              "[1.586679458618164, 0.6832000017166138]"
            ]
          },
          "metadata": {
            "tags": []
          },
          "execution_count": 10
        }
      ]
    }
  ]
}
